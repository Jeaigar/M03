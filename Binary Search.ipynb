{
 "cells": [
  {
   "cell_type": "code",
   "execution_count": 3,
   "id": "1e3bba28-4fda-499e-907f-f52f929b2086",
   "metadata": {},
   "outputs": [],
   "source": [
    "#User function Template for python3\n",
    "\n",
    "class Solution:\n",
    "    def sort012(self, arr, n):\n",
    "        l, m, h = 0, 0, n - 1\n",
    "        while m <= h:\n",
    "            if arr[m] == 0:\n",
    "                arr[l], arr[m] = arr[m], arr[l]\n",
    "                l += 1\n",
    "                m += 1\n",
    "            elif arr[m] == 1:\n",
    "                m += 1\n",
    "            else:\n",
    "                arr[m], arr[h] = arr[h], arr[m]\n",
    "                h -= 1"
   ]
  },
  {
   "cell_type": "code",
   "execution_count": null,
   "id": "2b18447f-e3f4-4304-9126-044ddfd6795b",
   "metadata": {},
   "outputs": [],
   "source": []
  }
 ],
 "metadata": {
  "kernelspec": {
   "display_name": "Python 3 (ipykernel)",
   "language": "python",
   "name": "python3"
  },
  "language_info": {
   "codemirror_mode": {
    "name": "ipython",
    "version": 3
   },
   "file_extension": ".py",
   "mimetype": "text/x-python",
   "name": "python",
   "nbconvert_exporter": "python",
   "pygments_lexer": "ipython3",
   "version": "3.11.7"
  }
 },
 "nbformat": 4,
 "nbformat_minor": 5
}
