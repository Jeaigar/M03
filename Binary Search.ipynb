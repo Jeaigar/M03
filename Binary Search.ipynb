{
 "cells": [
  {
   "cell_type": "code",
   "execution_count": 1,
   "id": "1e3bba28-4fda-499e-907f-f52f929b2086",
   "metadata": {},
   "outputs": [],
   "source": [
    "#User function template for Python\n",
    "\n",
    "class Solution:\t\n",
    "\tdef binarysearch(self, arr, n, k):\n",
    "\t\t# Initialize low and high pointers\n",
    "\t\tlow = 0\n",
    "\t\thigh = n - 1\n",
    "\n",
    "\t\t# Binary search\n",
    "\t\twhile low <= high:\n",
    "\t\t\t# Calculate mid\n",
    "\t\t\tmid = (low + high) // 2\n",
    "\n",
    "\t\t\t# If element is found, return its index\n",
    "\t\t\tif arr[mid] == k:\n",
    "\t\t\t\treturn mid\n",
    "\n",
    "\t\t\t# If element is larger than mid, move low pointer\n",
    "\t\t\telif arr[mid] < k:\n",
    "\t\t\t\tlow = mid + 1\n",
    "\n",
    "\t\t\t# If element is smaller than mid, move high pointer\n",
    "\t\t\telse:\n",
    "\t\t\t\thigh = mid - 1\n",
    "\n",
    "\t\t# If element is not found, return -1\n",
    "\t\treturn -1\n",
    "\n",
    "#{ \n",
    " # Driver Code Starts\n",
    "#Initial template for Python\n",
    "\n",
    "if __name__ == '__main__':\n",
    "    t=int(input())\n",
    "    for i in range(t):\n",
    "        n=int(input())\n",
    "        arr=list(map(int, input().strip().split(' ')))\n",
    "        k=int(input())\n",
    "        ob = Solution()\n",
    "        print (ob.binarysearch(arr, n, k))\n",
    "\n",
    "\n",
    "# } Driver Code Ends"
   ]
  },
  {
   "cell_type": "code",
   "execution_count": null,
   "id": "2b18447f-e3f4-4304-9126-044ddfd6795b",
   "metadata": {},
   "outputs": [],
   "source": []
  }
 ],
 "metadata": {
  "kernelspec": {
   "display_name": "Python 3 (ipykernel)",
   "language": "python",
   "name": "python3"
  },
  "language_info": {
   "codemirror_mode": {
    "name": "ipython",
    "version": 3
   },
   "file_extension": ".py",
   "mimetype": "text/x-python",
   "name": "python",
   "nbconvert_exporter": "python",
   "pygments_lexer": "ipython3",
   "version": "3.12.1"
  }
 },
 "nbformat": 4,
 "nbformat_minor": 5
}
