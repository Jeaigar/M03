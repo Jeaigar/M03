{
 "cells": [
  {
   "cell_type": "code",
   "execution_count": 1,
   "id": "c7160d0a-510f-437e-b18e-ba358809ed21",
   "metadata": {},
   "outputs": [],
   "source": [
    "things = [\"mozzarella\", \"cinderella\", \"salmonella\"]"
   ]
  },
  {
   "cell_type": "code",
   "execution_count": 2,
   "id": "b2352141-ab05-4474-972a-29aee408a452",
   "metadata": {},
   "outputs": [
    {
     "name": "stdout",
     "output_type": "stream",
     "text": [
      "['mozzarella', 'Cinderella', 'salmonella']\n"
     ]
    }
   ],
   "source": [
    "things[1] = things[1].capitalize()\n",
    "print(things)"
   ]
  },
  {
   "cell_type": "code",
   "execution_count": 3,
   "id": "1757091e-563b-4eb6-a173-9c7c6283c381",
   "metadata": {},
   "outputs": [
    {
     "name": "stdout",
     "output_type": "stream",
     "text": [
      "['MOZZARELLA', 'Cinderella', 'salmonella']\n"
     ]
    }
   ],
   "source": [
    "things[0] = things[0].upper()\n",
    "print(things)"
   ]
  },
  {
   "cell_type": "code",
   "execution_count": 4,
   "id": "2119aa15-47ec-4bd7-93f6-47353c4d02a9",
   "metadata": {},
   "outputs": [
    {
     "name": "stdout",
     "output_type": "stream",
     "text": [
      "['MOZZARELLA', 'Cinderella']\n"
     ]
    }
   ],
   "source": [
    "del things[2]\n",
    "print(things)"
   ]
  },
  {
   "cell_type": "code",
   "execution_count": 5,
   "id": "7981f695-6c85-4098-8998-c43c6259460e",
   "metadata": {},
   "outputs": [
    {
     "name": "stdout",
     "output_type": "stream",
     "text": [
      "['Harry', 'Ron', 'Hermione']\n"
     ]
    }
   ],
   "source": [
    "def good():\n",
    "    return ['Harry', 'Ron', 'Hermione']\n",
    "\n",
    "# Example usage:\n",
    "result = good()\n",
    "print(result)"
   ]
  },
  {
   "cell_type": "code",
   "execution_count": 6,
   "id": "3bdf0e06-b321-4847-b65b-3bd2682649a1",
   "metadata": {},
   "outputs": [
    {
     "name": "stdout",
     "output_type": "stream",
     "text": [
      "5\n"
     ]
    }
   ],
   "source": [
    "def get_odds():\n",
    "    for num in range(10):\n",
    "        if num % 2 != 0:\n",
    "            yield num\n",
    "\n",
    "# Example usage:\n",
    "odd_gen = get_odds()\n",
    "for _ in range(3):\n",
    "    third_odd = next(odd_gen)\n",
    "\n",
    "print(third_odd)"
   ]
  },
  {
   "cell_type": "code",
   "execution_count": null,
   "id": "c8508d3e-1b7c-4c76-8482-0b061077b394",
   "metadata": {},
   "outputs": [],
   "source": []
  }
 ],
 "metadata": {
  "kernelspec": {
   "display_name": "Python 3 (ipykernel)",
   "language": "python",
   "name": "python3"
  },
  "language_info": {
   "codemirror_mode": {
    "name": "ipython",
    "version": 3
   },
   "file_extension": ".py",
   "mimetype": "text/x-python",
   "name": "python",
   "nbconvert_exporter": "python",
   "pygments_lexer": "ipython3",
   "version": "3.11.7"
  }
 },
 "nbformat": 4,
 "nbformat_minor": 5
}
